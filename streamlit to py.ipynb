{
 "cells": [
  {
   "cell_type": "code",
   "execution_count": 2,
   "id": "ca976f4a",
   "metadata": {},
   "outputs": [],
   "source": [
    "# !pip install streamlit\n",
    "# !pip install streamlit-on-Hover-tabs"
   ]
  },
  {
   "cell_type": "code",
   "execution_count": 3,
   "id": "6e934844",
   "metadata": {},
   "outputs": [
    {
     "name": "stdout",
     "output_type": "stream",
     "text": [
      "Overwriting streamlit_app.py\n"
     ]
    }
   ],
   "source": [
    "%%writefile streamlit_app.py\n",
    "\n",
    "from st_on_hover_tabs import on_hover_tabs\n",
    "import streamlit as st\n",
    "st.set_page_config(layout=\"wide\")\n",
    "\n",
    "st.header(\"Custom tab component for on-hover navigation bar\")\n",
    "st.markdown('<style>' + open('./style.css').read() + '</style>', unsafe_allow_html=True)\n",
    "\n",
    "\n",
    "with st.sidebar:\n",
    "    tabs = on_hover_tabs(tabName=['Dashboard', 'Money', 'Economy'], \n",
    "                         iconName=['dashboard', 'money', 'economy'], default_choice=0)\n",
    "\n",
    "if tabs =='Dashboard':\n",
    "    st.title(\"Navigation Bar\")\n",
    "    st.write('Name of option is {}'.format(tabs))\n",
    "\n",
    "elif tabs == 'Money':\n",
    "    st.title(\"Paper\")\n",
    "    st.write('Name of option is {}'.format(tabs))\n",
    "\n",
    "elif tabs == 'Economy':\n",
    "    st.title(\"Tom\")\n",
    "    st.write('Name of option is {}'.format(tabs))\n",
    "    \n"
   ]
  },
  {
   "cell_type": "code",
   "execution_count": 4,
   "id": "d16233fc",
   "metadata": {},
   "outputs": [
    {
     "name": "stdout",
     "output_type": "stream",
     "text": [
      "Writing style.css\n"
     ]
    }
   ],
   "source": [
    "%%writefile style.css\n",
    "\n",
    "section[data-testid='stSidebar'] {\n",
    "    background-color: #111;\n",
    "    flex-shrink: unset !important;\n",
    "    \n",
    "}\n",
    "\n",
    "@media(hover:hover) and (min-width: 600px) and (max-width: 769px){\n",
    "\n",
    "    header[data-testid=\"stHeader\"] {\n",
    "        display:none;\n",
    "    }\n",
    "\n",
    "    section[data-testid='stSidebar'] {\n",
    "        height: 100%;\n",
    "        min-width:95px !important;\n",
    "        width: 95px !important;\n",
    "        margin-left: 305px;\n",
    "        position: relative;\n",
    "        z-index: 1;\n",
    "        top: 0;\n",
    "        left: 0;\n",
    "        background-color: #111;\n",
    "        overflow-x: hidden;\n",
    "        transition: 0.5s ease;\n",
    "        padding-top: 60px;\n",
    "        white-space: nowrap;\n",
    "    }\n",
    "\n",
    "    section[data-testid='stSidebar']:hover{\n",
    "        min-width: 330px !important;\n",
    "        }\n",
    "\n",
    "    button[kind=\"header\"] {\n",
    "        display: none;\n",
    "    }\n",
    "\n",
    "    div[data-testid=\"collapsedControl\"]{\n",
    "        display: none;\n",
    "    }\n",
    "\n",
    "}\n",
    "\n",
    "@media(hover: hover) and (min-width: 769px){\n",
    "\n",
    "    header[data-testid=\"stHeader\"] {\n",
    "        display:none;\n",
    "    }\n",
    "\n",
    "    section[data-testid='stSidebar'] {\n",
    "        height: 100%;\n",
    "        min-width:95px !important;\n",
    "        width: 95px !important;\n",
    "        transform:translateX(0px);\n",
    "        position: relative;\n",
    "        z-index: 1;\n",
    "        top: 0;\n",
    "        left: 0;\n",
    "        background-color: #111;\n",
    "        overflow-x: hidden;\n",
    "        transition: 0.5s ease;\n",
    "        padding-top: 60px;\n",
    "        white-space: nowrap;\n",
    "    }\n",
    "\n",
    "    section[data-testid='stSidebar']:hover{\n",
    "        min-width: 330px !important;\n",
    "        }\n",
    "\n",
    "    button[kind=\"header\"] {\n",
    "        display: none;\n",
    "    }\n",
    "\n",
    "    div[data-testid=\"collapsedControl\"]{\n",
    "        display: none;\n",
    "    }\n",
    "}"
   ]
  }
 ],
 "metadata": {
  "kernelspec": {
   "display_name": "Python 3 (ipykernel)",
   "language": "python",
   "name": "python3"
  },
  "language_info": {
   "codemirror_mode": {
    "name": "ipython",
    "version": 3
   },
   "file_extension": ".py",
   "mimetype": "text/x-python",
   "name": "python",
   "nbconvert_exporter": "python",
   "pygments_lexer": "ipython3",
   "version": "3.11.5"
  }
 },
 "nbformat": 4,
 "nbformat_minor": 5
}
