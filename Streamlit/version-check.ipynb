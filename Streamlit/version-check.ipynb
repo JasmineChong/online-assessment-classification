{
 "cells": [
  {
   "cell_type": "code",
   "execution_count": 5,
   "id": "f1acc999",
   "metadata": {},
   "outputs": [
    {
     "name": "stdout",
     "output_type": "stream",
     "text": [
      "streamlit version: 1.28.2\n",
      "pandas version: 2.1.3\n",
      "numpy version: 1.26.2\n",
      "joblib version: 1.3.2\n"
     ]
    }
   ],
   "source": [
    "from PIL import Image\n",
    "import streamlit as st\n",
    "import pandas as pd\n",
    "import numpy as np\n",
    "import joblib\n",
    "\n",
    "# Print versions\n",
    "print(\"streamlit version:\", st.__version__)\n",
    "print(\"pandas version:\", pd.__version__)\n",
    "print(\"numpy version:\", np.__version__)\n",
    "print(\"joblib version:\", joblib.__version__)"
   ]
  },
  {
   "cell_type": "code",
   "execution_count": 9,
   "id": "aee32272",
   "metadata": {},
   "outputs": [
    {
     "name": "stdout",
     "output_type": "stream",
     "text": [
      "10.1.0\n"
     ]
    }
   ],
   "source": [
    "!python -c \"import PIL; print(PIL.__version__)\""
   ]
  },
  {
   "cell_type": "code",
   "execution_count": 13,
   "id": "c78e63b2",
   "metadata": {},
   "outputs": [
    {
     "name": "stdout",
     "output_type": "stream",
     "text": [
      "st-on-hover-tabs version: 1.0.1\n"
     ]
    }
   ],
   "source": [
    "import pkg_resources\n",
    "\n",
    "# Attempt to get version using pkg_resources\n",
    "try:\n",
    "    st_on_hover_tabs_version = pkg_resources.get_distribution(\"streamlit-on-Hover-tabs\").version\n",
    "except pkg_resources.DistributionNotFound:\n",
    "    st_on_hover_tabs_version = \"Not installed\"\n",
    "\n",
    "# Print versions\n",
    "print(\"st-on-hover-tabs version:\", st_on_hover_tabs_version)"
   ]
  },
  {
   "cell_type": "code",
   "execution_count": 12,
   "id": "2458f829",
   "metadata": {},
   "outputs": [
    {
     "name": "stderr",
     "output_type": "stream",
     "text": [
      "ERROR: Could not find a version that satisfies the requirement st-on-hover-tabs (from versions: none)\n",
      "ERROR: No matching distribution found for st-on-hover-tabs\n"
     ]
    }
   ],
   "source": [
    "# pip install streamlit-on-Hover-tabs"
   ]
  }
 ],
 "metadata": {
  "kernelspec": {
   "display_name": "Python 3 (ipykernel)",
   "language": "python",
   "name": "python3"
  },
  "language_info": {
   "codemirror_mode": {
    "name": "ipython",
    "version": 3
   },
   "file_extension": ".py",
   "mimetype": "text/x-python",
   "name": "python",
   "nbconvert_exporter": "python",
   "pygments_lexer": "ipython3",
   "version": "3.11.5"
  }
 },
 "nbformat": 4,
 "nbformat_minor": 5
}
